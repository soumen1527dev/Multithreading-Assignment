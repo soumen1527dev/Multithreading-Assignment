{
 "cells": [
  {
   "cell_type": "code",
   "execution_count": 1,
   "id": "329e0709-5cfb-4685-9c11-d21c42d21d9f",
   "metadata": {},
   "outputs": [],
   "source": [
    "# Q1.What is multithreading in python? Why is it used? Name the module used to handle threads in python.\n",
    "# Ans :\n",
    "\n",
    "# Multithreading :- Multithreading in Python refers to the concurrent execution of multiple threads within the same \n",
    "# Python process.A thread is a lightweight unit of execution that runs independently but shares the same memory space \n",
    "# as other threads within the same process. Multithreading is a way to achieve parallelism in Python, allowing us to \n",
    "# perform multiple tasks concurrently, which can be particularly useful for tasks that involve I/O operations or other\n",
    "# blocking operations where waiting for one task to complete before starting another would be inefficient.\n",
    "\n",
    "\n",
    "# why used :- multithreading in Python is primarily used for I/O-bound operations, concurrency, and certain parallelizable \n",
    "# tasks, but it may not be the best choice for all types of applications, and developers need to be mindful of the GIL's impact on performance.\n",
    "\n",
    "\n",
    "# Module Name :- In Python, the module used to handle threads is called threading. The threading module provides a high-level interface\n",
    "# for creating and working with threads. It allows you to create, start, and manage threads within your Python programs."
   ]
  },
  {
   "cell_type": "code",
   "execution_count": 6,
   "id": "933cd247-1dbf-438f-8d0f-7b7bf1ca6112",
   "metadata": {},
   "outputs": [
    {
     "name": "stdout",
     "output_type": "stream",
     "text": [
      "Number of active threads: 8\n"
     ]
    },
    {
     "name": "stderr",
     "output_type": "stream",
     "text": [
      "/tmp/ipykernel_132/3163424069.py:24: DeprecationWarning: activeCount() is deprecated, use active_count() instead\n",
      "  active_threads_count = threading.activeCount()\n"
     ]
    }
   ],
   "source": [
    "# Q2. Why threading module used? Write the use of the following functions:\n",
    "    # 1.activeCount()\n",
    "    # 2.currentThread()\n",
    "    # 3.enumerate()\n",
    "# Ans :-\n",
    "\n",
    "# Why threading module is used :- The threading module in Python is used for several purposes related to handling threads:like-\n",
    "# Creation of Threads, Concurrent Execution, Parallelism for I/O-Bound Operations, Improved Responsiveness,\n",
    "# Resource Sharing, Task Parallelism, Background Tasks etc..\n",
    "\n",
    "#Active Count : Example :-\n",
    "\n",
    "import threading\n",
    "\n",
    "def my_thread_function():\n",
    "    pass  \n",
    "\n",
    "thread1 = threading.Thread(target=my_thread_function)\n",
    "thread2 = threading.Thread(target=my_thread_function)\n",
    "\n",
    "thread1.start()\n",
    "thread2.start()\n",
    "\n",
    "active_threads_count = threading.activeCount()\n",
    "\n",
    "print(f\"Number of active threads: {active_threads_count}\")"
   ]
  },
  {
   "cell_type": "code",
   "execution_count": 7,
   "id": "40a259f8-02f8-419b-b8db-e64bf8110c55",
   "metadata": {},
   "outputs": [
    {
     "name": "stdout",
     "output_type": "stream",
     "text": [
      "Thread name: Thread-15 (my_thread_function)\n",
      "Main thread name: MainThread\n"
     ]
    }
   ],
   "source": [
    "# currentThread() : Example :-\n",
    "\n",
    "import threading\n",
    "\n",
    "def my_thread_function():\n",
    "    current_thread = threading.current_thread()\n",
    "    print(f\"Thread name: {current_thread.name}\")\n",
    "\n",
    "thread = threading.Thread(target=my_thread_function)\n",
    "thread.start()\n",
    "\n",
    "thread.join()\n",
    "\n",
    "current_thread = threading.current_thread()\n",
    "print(f\"Main thread name: {current_thread.name}\")\n"
   ]
  },
  {
   "cell_type": "code",
   "execution_count": 17,
   "id": "e28dba51-2daf-4164-8c40-931213cffb26",
   "metadata": {},
   "outputs": [
    {
     "name": "stdout",
     "output_type": "stream",
     "text": [
      "Index 0: apple\n",
      "Index 1: banana\n",
      "Index 2: cherry\n",
      "Index 3: date\n",
      "Position 1: apple\n",
      "Position 2: banana\n",
      "Position 3: cherry\n",
      "Position 4: date\n"
     ]
    }
   ],
   "source": [
    "#enumerate() Example :-\n",
    "\n",
    "fruits = [\"apple\", \"banana\", \"cherry\", \"date\"]\n",
    "\n",
    "for index, fruit in enumerate(fruits):\n",
    "    print(f\"Index {index}: {fruit}\")\n",
    "\n",
    "for index, fruit in enumerate(fruits, start=1):\n",
    "    print(f\"Position {index}: {fruit}\")"
   ]
  },
  {
   "cell_type": "code",
   "execution_count": 9,
   "id": "76cad012-efba-49fc-8c68-8c8b04690b76",
   "metadata": {},
   "outputs": [
    {
     "name": "stdout",
     "output_type": "stream",
     "text": [
      "Thread Thread-16: 0\n",
      "Thread Thread-16: 1\n",
      "Thread Thread-16: 2\n",
      "Thread Thread-16: 3\n",
      "Thread Thread-16: 4\n",
      "Main thread\n"
     ]
    }
   ],
   "source": [
    "# Q3. Explain the following functions:\n",
    "#     1.run()\n",
    "#     2.start()\n",
    "#     3.join()\n",
    "#     4.isAlive()\n",
    "    \n",
    "# Ans :-\n",
    "\n",
    "# run() :- In Python, the run() function itself is not a built-in function or method with a specific purpose\n",
    "# like print() or enumerate(). Instead, the run() method is typically used in the context of creating custom\n",
    "# classes that derive from the threading.Thread class or other classes in the threading module.\n",
    "\n",
    "# Example :- \n",
    "\n",
    "import threading\n",
    "\n",
    "class MyThread(threading.Thread):\n",
    "    def run(self):\n",
    "       \n",
    "        for i in range(5):\n",
    "            print(f\"Thread {self.name}: {i}\")\n",
    "\n",
    "my_thread = MyThread()\n",
    "my_thread.start()\n",
    "my_thread.join()\n",
    "\n",
    "print(\"Main thread\")"
   ]
  },
  {
   "cell_type": "code",
   "execution_count": 10,
   "id": "657e594e-8f01-4dd5-9a2a-70cc51928847",
   "metadata": {},
   "outputs": [
    {
     "name": "stdout",
     "output_type": "stream",
     "text": [
      "This is my custom thread.\n",
      "This is the main thread.\n"
     ]
    }
   ],
   "source": [
    "# start() Example :-\n",
    "\n",
    "# In Python's threading module, the start() method is used to begin the execution of a thread. When we create\n",
    "# a thread using the threading.Thread class and define a target function or method for that thread, we need\n",
    "# to call the start() method to start the execution of the thread.\n",
    "\n",
    "import threading\n",
    "\n",
    "def my_thread_function():\n",
    "    print(\"This is my custom thread.\")\n",
    "\n",
    "my_thread = threading.Thread(target=my_thread_function)\n",
    "\n",
    "my_thread.start()\n",
    "\n",
    "print(\"This is the main thread.\")"
   ]
  },
  {
   "cell_type": "code",
   "execution_count": 11,
   "id": "64873c9c-2d97-4588-9d44-0ae69e405913",
   "metadata": {},
   "outputs": [
    {
     "name": "stdout",
     "output_type": "stream",
     "text": [
      "This is my custom thread.\n",
      "This is the main thread.\n"
     ]
    }
   ],
   "source": [
    "# join() Example :-\n",
    "\n",
    "# In Python's threading module, the join() method is used to wait for a thread to complete its execution before\n",
    "# allowing the main thread to continue or before proceeding with other operations that depend on the thread's results.\n",
    "\n",
    "import threading\n",
    "\n",
    "def my_thread_function():\n",
    "    print(\"This is my custom thread.\")\n",
    "\n",
    "my_thread = threading.Thread(target=my_thread_function)\n",
    "\n",
    "my_thread.start()\n",
    "\n",
    "my_thread.join()\n",
    "\n",
    "print(\"This is the main thread.\")"
   ]
  },
  {
   "cell_type": "code",
   "execution_count": 12,
   "id": "690066e3-5abf-4bff-89f3-59f0162d212a",
   "metadata": {},
   "outputs": [
    {
     "name": "stdout",
     "output_type": "stream",
     "text": [
      "Custom thread is running.\n",
      "Custom thread is alive.\n",
      "Custom thread is done.\n",
      "Custom thread has completed.\n"
     ]
    }
   ],
   "source": [
    "# isAlive() : Example :-\n",
    "\n",
    "# In Python's threading module, the is_alive() method (also known as isAlive()) is used to check whether a thread\n",
    "# is currently active or alive. It returns True if the thread is still running, and False if the thread has completed its execution.\n",
    "\n",
    "import threading\n",
    "import time\n",
    "\n",
    "def my_thread_function():\n",
    "    print(\"Custom thread is running.\")\n",
    "    time.sleep(2)\n",
    "    print(\"Custom thread is done.\")\n",
    "\n",
    "my_thread = threading.Thread(target=my_thread_function)\n",
    "\n",
    "my_thread.start()\n",
    "\n",
    "if my_thread.is_alive():\n",
    "    print(\"Custom thread is alive.\")\n",
    "else:\n",
    "    print(\"Custom thread has completed.\")\n",
    "\n",
    "my_thread.join()\n",
    "\n",
    "if my_thread.is_alive():\n",
    "    print(\"Custom thread is alive.\")\n",
    "else:\n",
    "    print(\"Custom thread has completed.\")"
   ]
  },
  {
   "cell_type": "code",
   "execution_count": 13,
   "id": "fc1232ba-12b4-4e3f-818d-61f3541ca6cd",
   "metadata": {},
   "outputs": [
    {
     "name": "stdout",
     "output_type": "stream",
     "text": [
      "Square of 1: 1\n",
      "Square of 2: 4\n",
      "Square of 3: 9\n",
      "Square of 4: 16\n",
      "Square of 5: 25\n",
      "Cube of 1: 1\n",
      "Cube of 2: 8\n",
      "Cube of 3: 27\n",
      "Cube of 4: 64\n",
      "Cube of 5: 125\n",
      "Both threads have finished.\n"
     ]
    }
   ],
   "source": [
    "# Q4.Write a python program to create two threads. Thread one must print the list of squares and thread\n",
    "# two must print the list of cubes\n",
    "# Ans :-\n",
    "\n",
    "import threading\n",
    "\n",
    "def print_squares():\n",
    "    for i in range(1, 6):\n",
    "        print(f\"Square of {i}: {i * i}\")\n",
    "\n",
    "def print_cubes():\n",
    "    for i in range(1, 6):\n",
    "        print(f\"Cube of {i}: {i * i * i}\")\n",
    "\n",
    "thread1 = threading.Thread(target=print_squares)\n",
    "thread2 = threading.Thread(target=print_cubes)\n",
    "\n",
    "thread1.start()\n",
    "thread2.start()\n",
    "\n",
    "thread1.join()\n",
    "thread2.join()\n",
    "\n",
    "print(\"Both threads have finished.\")"
   ]
  },
  {
   "cell_type": "code",
   "execution_count": 14,
   "id": "68733f24-7be3-4e46-bed8-1bbd250c3fd0",
   "metadata": {},
   "outputs": [],
   "source": [
    "# Q5.State advantages and disadvantages of multithreading\n",
    "# Ans :-\n",
    "\n",
    "# Advantage of Multithreading :\n",
    "\n",
    "# 1. Improved Responsiveness: Multithreading allows applications to remain responsive to user interactions or\n",
    "# external events while performing background tasks. For example, in graphical user interfaces (GUIs), it \n",
    "# prevents the interface from freezing during time-consuming operations.\n",
    "\n",
    "# 2. Parallelism: Multithreading can lead to improved performance in applications with tasks that can be divided \n",
    "# into smaller subtasks that can run concurrently. This is especially beneficial for I/O-bound operations where \n",
    "# threads can overlap waiting times.\n",
    "\n",
    "# 3. Resource Sharing: Threads within the same process share the same memory space, making it easier to share data and \n",
    "# resources among them without the need for complex inter-process communication (IPC) mechanisms.\n",
    "\n",
    "# 4. Simplicity: In some cases, multithreading can simplify the design and implementation of concurrent systems\n",
    "#  compared to using multiple processes.\n",
    "\n",
    "# 5. Lower Overhead: Threads have lower overhead in terms of memory and resource consumption compared to separate \n",
    "# processes because they share the same memory space.\n",
    "\n",
    "\n",
    "\n",
    "# Disadvantages of multithreading :-\n",
    "\n",
    "# 1. Global Interpreter Lock (GIL): In Python, the Global Interpreter Lock (GIL) restricts the execution of Python bytecode\n",
    "# to one thread at a time in CPython (the default Python interpreter). This limitation can hinder the performance of CPU\n",
    "# bound tasks in multithreaded programs.\n",
    "\n",
    "# 2. Complexity: Managing and synchronizing threads can introduce complexities such as potential race conditions,\n",
    "# eadlocks, and thread safety issues. Debugging multithreaded code can be more challenging than single-threaded code.\n",
    "\n",
    "# 3. Increased Complexity of Testing: Testing multithreaded code can be more challenging due to the nondeterministic\n",
    "# nature of thread scheduling. This can make it difficult to reproduce and diagnose threading-related issues.\n",
    "\n",
    "# 4. Platform Dependence: Multithreading behavior can vary across different operating systems and platforms.\n",
    "# Code that works correctly on one platform may not behave the same way on another.\n",
    "\n",
    "# 5. Limited Scalability: As the number of threads increases, the overhead associated with thread management\n",
    "# and synchronization can outweigh the benefits of parallelism, leading to diminishing returns.\n",
    "\n",
    "# 6. Potential for Resource Contention: When multiple threads access shared resources concurrently, they can contend \n",
    "# for those resources, leading to potential bottlenecks and performance degradation."
   ]
  },
  {
   "cell_type": "code",
   "execution_count": 15,
   "id": "39f19bb8-b096-4457-b4b9-3e730e1e28d6",
   "metadata": {},
   "outputs": [
    {
     "name": "stdout",
     "output_type": "stream",
     "text": [
      "Thread 1: Holding lock1...\n",
      "Thread 1: Waiting for lock2...\n",
      "Thread 1: Acquired lock2.\n",
      "Thread 2: Holding lock2...\n",
      "Thread 2: Waiting for lock1...\n",
      "Thread 2: Acquired lock1.\n"
     ]
    }
   ],
   "source": [
    "# Q6. Explain deadlocks and race conditions.\n",
    "# Ans :-\n",
    "\n",
    "# Deadlocks and race conditions are two common concurrency-related issues that can\n",
    "# occur when working with multithreaded or multiprocessing Python programs.\n",
    "\n",
    "# Example :-\n",
    "\n",
    "import threading\n",
    "\n",
    "lock1 = threading.Lock()\n",
    "lock2 = threading.Lock()\n",
    "\n",
    "def thread1():\n",
    "    with lock1:\n",
    "        print(\"Thread 1: Holding lock1...\")\n",
    "        print(\"Thread 1: Waiting for lock2...\")\n",
    "        with lock2:\n",
    "            print(\"Thread 1: Acquired lock2.\")\n",
    "\n",
    "def thread2():\n",
    "    with lock2:\n",
    "        print(\"Thread 2: Holding lock2...\")\n",
    "        print(\"Thread 2: Waiting for lock1...\")\n",
    "        with lock1:\n",
    "            print(\"Thread 2: Acquired lock1.\")\n",
    "\n",
    "t1 = threading.Thread(target=thread1)\n",
    "t2 = threading.Thread(target=thread2)\n",
    "t1.start()\n",
    "t2.start()\n",
    "t1.join()\n",
    "t2.join()"
   ]
  },
  {
   "cell_type": "code",
   "execution_count": 16,
   "id": "61d68b1e-7a14-41e0-a77c-40398b42a613",
   "metadata": {},
   "outputs": [
    {
     "name": "stdout",
     "output_type": "stream",
     "text": [
      "Final counter value: 2000000\n"
     ]
    }
   ],
   "source": [
    "# 2.Race Condition: Example :-\n",
    "\n",
    "# A race condition occurs when two or more threads or processes access shared data concurrently, \n",
    "# and the final state of the data depends on the timing of their execution. Race conditions can \n",
    "# lead to unpredictable and incorrect behavior in a program.\n",
    "\n",
    "import threading\n",
    "\n",
    "counter = 0\n",
    "\n",
    "def increment_counter():\n",
    "    global counter\n",
    "    for _ in range(1000000):\n",
    "        counter += 1\n",
    "\n",
    "t1 = threading.Thread(target=increment_counter)\n",
    "t2 = threading.Thread(target=increment_counter)\n",
    "t1.start()\n",
    "t2.start()\n",
    "t1.join()\n",
    "t2.join()\n",
    "\n",
    "print(\"Final counter value:\", counter)"
   ]
  },
  {
   "cell_type": "code",
   "execution_count": null,
   "id": "13552adb-5a6c-4898-bd62-f612c2919302",
   "metadata": {},
   "outputs": [],
   "source": []
  }
 ],
 "metadata": {
  "kernelspec": {
   "display_name": "Python 3 (ipykernel)",
   "language": "python",
   "name": "python3"
  },
  "language_info": {
   "codemirror_mode": {
    "name": "ipython",
    "version": 3
   },
   "file_extension": ".py",
   "mimetype": "text/x-python",
   "name": "python",
   "nbconvert_exporter": "python",
   "pygments_lexer": "ipython3",
   "version": "3.10.8"
  }
 },
 "nbformat": 4,
 "nbformat_minor": 5
}
